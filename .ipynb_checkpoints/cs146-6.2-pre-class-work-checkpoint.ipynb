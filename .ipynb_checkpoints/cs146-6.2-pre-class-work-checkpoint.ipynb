{
 "cells": [
  {
   "cell_type": "markdown",
   "metadata": {},
   "source": [
    "<h3>Pre­class work</h3>\n",
    "\n",
    "In the reading on Total Survey Error by the Roper Center, there is a table of 95% confidence\n",
    "intervals for sampling error in percentage values in survey results. This margin of error depends\n",
    "on both the number of people surveyed (the sampling size) and the observed outcome for a\n",
    "particular candidate (as a percentage). It turns out there is an error in this table.\n",
    "\n",
    "1. Using the normal approximation to the binomial distribution, confirm that the 95%\n",
    "confidence interval for the sampling error for sample size 1000 and percentage outcome\n",
    "10% is 2% (rounded to the nearest integer). Motivate why it is appropriate to use the\n",
    "binomial distribution here.\n",
    "\n",
    "\n",
    "2. Write a Python function for calculating the 95% confidence interval given any sample\n",
    "size and any percentage outcome. Use your function to calculate all the values in the\n",
    "Total Survey Error table rounded to the nearest integer. For which entries does your\n",
    "margin of error differ from the value in the table?\n",
    "\n",
    "\n",
    "3. Can you identify where these errors come from?\n",
    "\n",
    "\n",
    "\n",
    "Be ready to paste a link to your answers and code in a class poll."
   ]
  },
  {
   "cell_type": "code",
   "execution_count": 3,
   "metadata": {},
   "outputs": [],
   "source": [
    "import numpy as np\n",
    "import matplotlib.pyplot as plt\n",
    "from scipy import stats\n",
    "import seaborn as sns\n",
    "sns.set()"
   ]
  },
  {
   "cell_type": "markdown",
   "metadata": {},
   "source": [
    "Y is defined as a sum of independent, identically distributed random variables.  Therefore, as long as n is sufficiently large, we can use the Central Limit Theorem to calculate probabilities for Y. Specifically, the Central Limit Theorem tells us that:\n",
    "\n",
    "$Z=\\frac{Y−np}{\\sqrt{np(1−p)}}⟶N(0,1)$"
   ]
  },
  {
   "cell_type": "code",
   "execution_count": 56,
   "metadata": {},
   "outputs": [
    {
     "data": {
      "text/plain": [
       "<matplotlib.collections.LineCollection at 0x1a2350c208>"
      ]
     },
     "execution_count": 56,
     "metadata": {},
     "output_type": "execute_result"
    },
    {
     "data": {
      "image/png": "[encoded data removed]",
      "text/plain": [
       "<Figure size 1080x288 with 1 Axes>"
      ]
     },
     "metadata": {},
     "output_type": "display_data"
    }
   ],
   "source": [
    "#binomial distribution with sample size 1000 and percentage outcome 10%\n",
    "n =1000\n",
    "p =0.1\n",
    "\n",
    "x = np.arange(stats.binom.ppf(0, n, p),\n",
    "               stats.binom.ppf(1, n, p))\n",
    "plt.figure(figsize=(15, 4))\n",
    "plt.plot(x, stats.binom.pmf(x, n, p), 'o', ms=2, label='binom pmf',color='#21B982')\n",
    "plt.vlines(x, 0, stats.binom.pmf(x, n, p), colors='#E04F35', lw=0.5, alpha=0.5)"
   ]
  },
  {
   "cell_type": "code",
   "execution_count": 77,
   "metadata": {},
   "outputs": [
    {
     "data": {
      "text/plain": [
       "[<matplotlib.lines.Line2D at 0x1a245c7cf8>]"
      ]
     },
     "execution_count": 77,
     "metadata": {},
     "output_type": "execute_result"
    },
    {
     "data": {
      "image/png": "[encoded data removed]",
      "text/plain": [
       "<Figure size 1080x288 with 1 Axes>"
      ]
     },
     "metadata": {},
     "output_type": "display_data"
    }
   ],
   "source": [
    "#using normal distribution to approximate the binomial\n",
    "mu = n*p\n",
    "var = n*p*(1-p)\n",
    "sigma = np.sqrt(var)\n",
    "\n",
    "norm_dist = stats.norm(loc=mu, scale=sigma)\n",
    "sample_norm = np.random.normal(mu,sigma,1000)\n",
    "\n",
    "plt.figure(figsize=(15, 4))\n",
    "plt.hist(sample_norm,50,density=True,color='#E04F35',alpha=0.5)\n",
    "x = np.linspace(0,1000,1000)\n",
    "plt.plot(x, norm_dist.pdf(x),color='#21B982')"
   ]
  },
  {
   "cell_type": "markdown",
   "metadata": {},
   "source": [
    "Using the critical value stated from above:\n",
    "\n",
    "$Z=\\frac{Y−np}{\\sqrt{np(1−p)}}⟶N(0,1)$\n",
    "\n",
    "and standard error:\n",
    "\n",
    "$\\sqrt{\\frac{p(1-p)}{n}}$\n",
    "\n",
    "Margin of error = critical value x standard error\n",
    "\n",
    "$moe =\\frac{Y−np}{\\sqrt{np(1−p)}} \\times \\sqrt{\\frac{p(1-p)}{n}}$\n",
    "$= \\frac{y-np}{n}$"
   ]
  },
  {
   "cell_type": "code",
   "execution_count": 153,
   "metadata": {},
   "outputs": [
    {
     "name": "stdout",
     "output_type": "stream",
     "text": [
      "1.9238839948026067 -1.8781521394954765\n"
     ]
    }
   ],
   "source": [
    "n =1000\n",
    "p =0.1\n",
    "mu = n*p\n",
    "var = n*p*(1-p)\n",
    "sigma = np.sqrt(var)\n",
    "sample_norm = np.random.normal(mu,sigma,10000)\n",
    "\n",
    "upperbound = (np.percentile(sample_norm, 97.5)-mu)/n*100\n",
    "lowerbound = (np.percentile(sample_norm, 2.5)-mu)/n*100\n",
    "print(upperbound,lowerbound)"
   ]
  },
  {
   "cell_type": "code",
   "execution_count": 156,
   "metadata": {},
   "outputs": [],
   "source": [
    "def norm_approx_binom(n,p):\n",
    "    mu = n*p\n",
    "    var = n*p*(1-p)\n",
    "    sigma = np.sqrt(var)\n",
    "    sample_norm = np.random.normal(mu,sigma,10000)\n",
    "    upperbound = (np.percentile(sample_norm, 97.5)-mu)/n*100\n",
    "    lowerbound = (np.percentile(sample_norm, 2.5)-mu)/n*100\n",
    "    return n,p,np.round(upperbound),np.round(lowerbound)"
   ]
  },
  {
   "cell_type": "code",
   "execution_count": 157,
   "metadata": {},
   "outputs": [
    {
     "name": "stdout",
     "output_type": "stream",
     "text": [
      "(100, 0.1, 6.0, -6.0)\n",
      "(100, 0.2, 8.0, -8.0)\n",
      "(100, 0.3, 9.0, -9.0)\n",
      "(100, 0.4, 10.0, -9.0)\n",
      "(100, 0.5, 10.0, -10.0)\n",
      "(100, 0.6, 10.0, -10.0)\n",
      "(100, 0.7, 9.0, -9.0)\n",
      "(100, 0.8, 8.0, -8.0)\n",
      "(100, 0.9, 6.0, -6.0)\n",
      "(250, 0.1, 4.0, -4.0)\n",
      "(250, 0.2, 5.0, -5.0)\n",
      "(250, 0.3, 6.0, -6.0)\n",
      "(250, 0.4, 6.0, -6.0)\n",
      "(250, 0.5, 6.0, -6.0)\n",
      "(250, 0.6, 6.0, -6.0)\n",
      "(250, 0.7, 6.0, -6.0)\n",
      "(250, 0.8, 5.0, -5.0)\n",
      "(250, 0.9, 4.0, -4.0)\n",
      "(500, 0.1, 3.0, -3.0)\n",
      "(500, 0.2, 4.0, -3.0)\n",
      "(500, 0.3, 4.0, -4.0)\n",
      "(500, 0.4, 4.0, -4.0)\n",
      "(500, 0.5, 4.0, -4.0)\n",
      "(500, 0.6, 4.0, -4.0)\n",
      "(500, 0.7, 4.0, -4.0)\n",
      "(500, 0.8, 3.0, -3.0)\n",
      "(500, 0.9, 3.0, -3.0)\n",
      "(750, 0.1, 2.0, -2.0)\n",
      "(750, 0.2, 3.0, -3.0)\n",
      "(750, 0.3, 3.0, -3.0)\n",
      "(750, 0.4, 4.0, -3.0)\n",
      "(750, 0.5, 3.0, -3.0)\n",
      "(750, 0.6, 3.0, -3.0)\n",
      "(750, 0.7, 3.0, -3.0)\n",
      "(750, 0.8, 3.0, -3.0)\n",
      "(750, 0.9, 2.0, -2.0)\n",
      "(1000, 0.1, 2.0, -2.0)\n",
      "(1000, 0.2, 2.0, -2.0)\n",
      "(1000, 0.3, 3.0, -3.0)\n",
      "(1000, 0.4, 3.0, -3.0)\n",
      "(1000, 0.5, 3.0, -3.0)\n",
      "(1000, 0.6, 3.0, -3.0)\n",
      "(1000, 0.7, 3.0, -3.0)\n",
      "(1000, 0.8, 2.0, -2.0)\n",
      "(1000, 0.9, 2.0, -2.0)\n"
     ]
    }
   ],
   "source": [
    "sample_size = [100,250,500,750,1000]\n",
    "percentages = [0.1,0.2,0.3,0.4,0.5,0.6,0.7,0.8,0.9]\n",
    "\n",
    "for n in sample_size:\n",
    "    for p in percentages:\n",
    "        print(norm_approx_binom(n,p))"
   ]
  },
  {
   "cell_type": "code",
   "execution_count": null,
   "metadata": {},
   "outputs": [],
   "source": []
  }
 ],
 "metadata": {
  "kernelspec": {
   "display_name": "Python 3",
   "language": "python",
   "name": "python3"
  },
  "language_info": {
   "codemirror_mode": {
    "name": "ipython",
    "version": 3
   },
   "file_extension": ".py",
   "mimetype": "text/x-python",
   "name": "python",
   "nbconvert_exporter": "python",
   "pygments_lexer": "ipython3",
   "version": "3.6.5"
  }
 },
 "nbformat": 4,
 "nbformat_minor": 2
}
