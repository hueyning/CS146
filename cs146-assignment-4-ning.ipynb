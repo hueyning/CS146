{
 "cells": [
  {
   "cell_type": "markdown",
   "metadata": {},
   "source": [
    "### Posterior predictive tests.\n",
    "Refer back to the medical trial pre-class work notebook from\n",
    "Session 8.1. The notebook contains a non-hierarchical model (first) and a hierarchical\n",
    "model (second).\n",
    "\n",
    "For the non-hierarchical model and the control group half of the data set, choose a test\n",
    "statistic to show that the non-hierarchical model does not explain the control group data\n",
    "well. You should generate posterior data samples from this model and compare the test\n",
    "statistic of the real data to the distribution under your samples from the posterior. Note that\n",
    "the posterior distribution for this model is already provided in the notebook, so you don’t\n",
    "have to calculate it."
   ]
  },
  {
   "cell_type": "markdown",
   "metadata": {},
   "source": [
    "### Eczema Medical Trial Dataset\n",
    "\n",
    "\n",
    "|Study          | Treatment group |   Control group  |\n",
    "|---------------|-----------------|------------------|\n",
    "|Di Rienzo 2014 |     20 / 23     |        9 / 15    |\n",
    "|Galli 1994     |     10 / 16     |       11 / 18    |\n",
    "|Kaufman 1974   |     13 / 16     |        4 / 10    |\n",
    "|Qin 2014       |     35 / 45     |       21 / 39    |\n",
    "|Sanchez 2012   |     22 / 31     |       12 / 29    |\n",
    "|Silny 2006     |      7 / 10     |        0 / 10    |\n",
    "|**Totals**     |    107 / 141    |       57 / 121   |\n",
    "\n",
    "\n",
    "**Model 1:**\n",
    "\n",
    "* For each group (treatment and control), all 6 studies have the same fixed, but unknown, probability of success, $\\theta_t,\\theta_c\\in[0,1]$.\n",
    "* The data follow a binomial distribution in each study, conditioned on the probability of success — $\\theta_t$ for treatment or $\\theta_c$ for control.\n",
    "* The priors over $\\theta_t$ and $\\theta_c$ are uniform.\n",
    "\n",
    "These assumptions lead to the following model.\n",
    "\n",
    "* Likelihood: $\\prod_{i=1}^6 \\text{Binomial}(s_i\\,|\\,\\theta, n_i)$, where $s_i$ is the number of successful recoveries, $f_i$ is the number of failures (did not recover), and $n_i=s_i+f_i$ the number of patients.\n",
    "\n",
    "* Prior: $\\text{Beta}(\\theta\\,|\\,1,1)$ for both $\\theta_t$ and $\\theta_c$.\n",
    "\n",
    "* Posterior for treatment group: $\\text{Beta}(\\theta_t\\,|\\,108, 35)$.\n",
    "\n",
    "* Posterior for control group: $\\text{Beta}(\\theta_c\\,|\\,58, 65)$."
   ]
  },
  {
   "cell_type": "code",
   "execution_count": 19,
   "metadata": {},
   "outputs": [],
   "source": [
    "#import libraries\n",
    "import numpy as np\n",
    "import scipy.stats as stats\n",
    "import matplotlib.pyplot as plt"
   ]
  },
  {
   "cell_type": "code",
   "execution_count": 84,
   "metadata": {},
   "outputs": [],
   "source": [
    "#success count in the control groups\n",
    "control = [9,11,4,21,12,0]\n",
    "\n",
    "#size of the control groups\n",
    "control_size = [15,18,10,39,29,10]\n",
    "\n",
    "#get the range between the highest success rate vs the lowest success rate among the different control group trials\n",
    "def test_statistic(data):\n",
    "    success_rates = [data[i]/control_size[i] for i in range(len(control_size))]\n",
    "    range_ = max(success_rates) - min(success_rates)\n",
    "    return range_"
   ]
  },
  {
   "cell_type": "code",
   "execution_count": 93,
   "metadata": {
    "scrolled": true
   },
   "outputs": [
    {
     "name": "stdout",
     "output_type": "stream",
     "text": [
      "real test statistic:  0.6111111111111112\n",
      "mean test statistic from 1000 replications:  0.3188969348659003\n",
      "p-val:  0.012\n"
     ]
    },
    {
     "data": {
      "image/png": "[encoded data removed]",
      "text/plain": [
       "<Figure size 432x288 with 1 Axes>"
      ]
     },
     "metadata": {},
     "output_type": "display_data"
    }
   ],
   "source": [
    "#Generate samples from the posterior distribution for the control group.\n",
    "posterior_samples = stats.beta.rvs(a=58,b=65,size=1000)\n",
    "test_statistics =[]\n",
    "#Using the generated samples, generate a replicated dataset with the same size as the real dataset.\n",
    "#The replicated dataset is generated from the likelihood function, conditioned on the sampled θ .\n",
    "for i in posterior_samples:\n",
    "    #rep_total is a list of 6 integers, representing 6 control group trials, much like the \"control\" list defined above.\n",
    "    rep_total = [int(stats.binom.rvs(control_size[j],i,size=1)) for j in range(len(control_size))]\n",
    "    test_statistics.append(test_statistic(rep_total))\n",
    "    \n",
    "real_test_statistic = test_statistic(control)\n",
    "print(\"real test statistic: \",real_test_statistic)\n",
    "print(\"mean test statistic from 1000 replications: \", np.mean(test_statistics))\n",
    "\n",
    "plt.hist(test_statistics, alpha=0.5, density=True)\n",
    "plt.title(\"Distribution of Success Rate Range in Replicated Data\")\n",
    "plt.axvline(real_test_statistic, color='black')\n",
    "\n",
    "p_val = sum([1 for i in test_statistics if i > real_test_statistic])/len(test_statistics)\n",
    "print('p-val: ',p_val)"
   ]
  },
  {
   "cell_type": "code",
   "execution_count": null,
   "metadata": {},
   "outputs": [],
   "source": []
  }
 ],
 "metadata": {
  "kernelspec": {
   "display_name": "Python 3",
   "language": "python",
   "name": "python3"
  },
  "language_info": {
   "codemirror_mode": {
    "name": "ipython",
    "version": 3
   },
   "file_extension": ".py",
   "mimetype": "text/x-python",
   "name": "python",
   "nbconvert_exporter": "python",
   "pygments_lexer": "ipython3",
   "version": "3.6.5"
  }
 },
 "nbformat": 4,
 "nbformat_minor": 2
}
