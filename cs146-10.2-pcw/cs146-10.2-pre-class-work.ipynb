{
 "cells": [
  {
   "cell_type": "markdown",
   "metadata": {},
   "source": [
    "# Pre-class work\n",
    "\n",
    "These notes work through the motivation behind testing a model we have seen before. Use the notes to refresh your memory of this particular model, make sure you understand the choice of test statistic used below, and write Python code to compute the p-value for the test statistic."
   ]
  },
  {
   "cell_type": "code",
   "execution_count": 1,
   "metadata": {},
   "outputs": [],
   "source": [
    "import numpy as np\n",
    "import matplotlib.pyplot as plt\n",
    "from scipy import stats"
   ]
  },
  {
   "cell_type": "markdown",
   "metadata": {},
   "source": [
    "## Model and dataset\n",
    "\n",
    "In a previous class session, we modeled the dataset shown below using a **normal likelihood with unknown mean and variance** and a **conjugate normal-inverse-gamma prior** over the parameters."
   ]
  },
  {
   "cell_type": "code",
   "execution_count": 3,
   "metadata": {},
   "outputs": [
    {
     "data": {
      "image/png": "[encoded data removed]",
      "text/plain": [
       "<Figure size 864x432 with 1 Axes>"
      ]
     },
     "metadata": {},
     "output_type": "display_data"
    }
   ],
   "source": [
    "# Load data: read the particle sizes (in nanometers) from a CSV file.\n",
    "# Log-transform the data so we can model it using a normal likelihood.\n",
    "data = np.log(np.loadtxt('hrtem.csv'))\n",
    "\n",
    "plt.figure(figsize=(12, 6))\n",
    "plt.hist(data, bins=20, density=True, alpha=0.5)\n",
    "plt.title('Histogram of dataset')\n",
    "plt.show()"
   ]
  },
  {
   "cell_type": "markdown",
   "metadata": {},
   "source": [
    "The model was as follows.\n",
    "\n",
    "* Data: $\\{y_i\\}$\n",
    "* Parameters: mean $x$, variance $\\sigma^2$\n",
    "* Likelihood: $y_i \\sim \\text{Normal}(x, \\sigma^2)$\n",
    "* Prior: $(\\mu,\\sigma^2) \\sim \\text{Normal-Inverse-Gamma}(\\mu_0,\\nu_0,\\alpha_0,\\beta_0)$\n",
    "\n",
    "The prior hyperparameter values are given below."
   ]
  },
  {
   "cell_type": "code",
   "execution_count": 4,
   "metadata": {},
   "outputs": [
    {
     "name": "stdout",
     "output_type": "stream",
     "text": [
      "Posterior hyperparameters:\n",
      "  μ₀ = 2.3\n",
      "  ν₀ = 0.1\n",
      "  α₀ = 2\n",
      "  β₀ = 5\n"
     ]
    }
   ],
   "source": [
    "mu_0 = 2.3\n",
    "nu_0 = 0.1\n",
    "alpha_0 = 2\n",
    "beta_0 = 5\n",
    "\n",
    "print('Posterior hyperparameters:')\n",
    "print('  μ₀ =', mu_0)\n",
    "print('  ν₀ =', nu_0)\n",
    "print('  α₀ =', alpha_0)\n",
    "print('  β₀ =', beta_0)"
   ]
  },
  {
   "cell_type": "markdown",
   "metadata": {},
   "source": [
    "Since the prior is conjugate to the likelihood, the posterior is also a Normal-Inverse-Gamma distribution. The posterior hyperparameters are calculated below."
   ]
  },
  {
   "cell_type": "code",
   "execution_count": 5,
   "metadata": {},
   "outputs": [
    {
     "name": "stdout",
     "output_type": "stream",
     "text": [
      "Posterior hyperparameters:\n",
      "  μ₁ = 1.892401480510831\n",
      "  ν₁ = 500.1\n",
      "  α₁ = 252.0\n",
      "  β₁ = 124.45079772182757\n"
     ]
    }
   ],
   "source": [
    "# Sufficient statistics of the data\n",
    "s0 = len(data)\n",
    "s1 = sum(data)\n",
    "s2 = sum(data ** 2)\n",
    "\n",
    "# Posterior parameters\n",
    "mu_1 = (nu_0 * mu_0 + s1) / (nu_0 + s0)\n",
    "nu_1 = nu_0 + s0\n",
    "alpha_1 = alpha_0 + s0 / 2\n",
    "beta_1 = beta_0 + s2/2 - s1**2 / (2*s0) + s0*nu_0/(nu_1 + s0) * (s1/s0 - mu_0)**2/2\n",
    "\n",
    "print('Posterior hyperparameters:')\n",
    "print('  μ₁ =', mu_1)\n",
    "print('  ν₁ =', nu_1)\n",
    "print('  α₁ =', alpha_1)\n",
    "print('  β₁ =', beta_1)"
   ]
  },
  {
   "cell_type": "markdown",
   "metadata": {},
   "source": [
    "**One criticism against this model** is that it looks like the data distribution might be bimodal rather than unimodal, which would make a normal likelihood inappropriate. Let’s design a test statistic to check whether this bimodal appearance is really statistically significant or not."
   ]
  },
  {
   "cell_type": "markdown",
   "metadata": {},
   "source": [
    "## Test statistic\n",
    "\n",
    "Our test statistic is the proportion of data values that lie within one standard deviation of the mean of the dataset.\n",
    "\n",
    "So, given a dataset $\\{y_i\\}$, we compute the sample mean $\\bar{\\mu}$ and sample standard deviation $\\bar{\\sigma}$. We then count the proportion of data values that lie in the range $[\\bar{\\mu}-\\bar{\\sigma}, \\bar{\\mu}+\\bar{\\sigma}]$."
   ]
  },
  {
   "cell_type": "code",
   "execution_count": 6,
   "metadata": {},
   "outputs": [],
   "source": [
    "def test_statistic(data):\n",
    "    mu = np.mean(data)  # sample mean\n",
    "    sigma = np.std(data, ddof=1)  # sample standard deviation\n",
    "    return np.mean((data > mu - sigma) & (data < mu + sigma))"
   ]
  },
  {
   "cell_type": "markdown",
   "metadata": {},
   "source": [
    "For a normally distributed dataset, we expect approximately 68% of the data to lie within one standard deviation of the mean. For a bimodal dataset with equal probability mass in the two modes, we expect far fewer values to lie in this range since there is a gap between the modes.\n",
    "\n",
    "Here is an example to demonstrate why."
   ]
  },
  {
   "cell_type": "code",
   "execution_count": 7,
   "metadata": {},
   "outputs": [
    {
     "data": {
      "image/png": "[encoded data removed]",
      "text/plain": [
       "<Figure size 864x432 with 1 Axes>"
      ]
     },
     "metadata": {},
     "output_type": "display_data"
    }
   ],
   "source": [
    "# Generate samples from a mixture of two normal distributions\n",
    "N = 1000\n",
    "x = np.concatenate((stats.norm.rvs(loc=-2, scale=1, size=1000), stats.norm.rvs(loc=2, scale=1, size=1000)))\n",
    "mu = np.mean(x)  # sample mean\n",
    "sigma = np.std(x, ddof=1)  # sample standard deviation\n",
    "\n",
    "plt.figure(figsize=(12, 6))\n",
    "plt.hist(x, bins=20, alpha=0.5, density=True)\n",
    "plt.axvline(mu - sigma, color='black')\n",
    "plt.axvline(mu + sigma, color='black')\n",
    "plt.title('Proportion of data in range [μ–σ, μ+σ]: %.3f' % test_statistic(x))\n",
    "plt.show()"
   ]
  },
  {
   "cell_type": "markdown",
   "metadata": {},
   "source": [
    "The black lines show the mean plus and minus one standard deviation.\n",
    "\n",
    "In this case, 60.2% of the data lie between the black lines. \n",
    "\n",
    "If we apply this test statistic to the original dataset, we get the following."
   ]
  },
  {
   "cell_type": "code",
   "execution_count": 8,
   "metadata": {},
   "outputs": [
    {
     "data": {
      "image/png": "[encoded data removed]",
      "text/plain": [
       "<Figure size 864x432 with 1 Axes>"
      ]
     },
     "metadata": {},
     "output_type": "display_data"
    }
   ],
   "source": [
    "mu = np.mean(data)\n",
    "sigma = np.std(data)\n",
    "\n",
    "plt.figure(figsize=(12, 6))\n",
    "plt.hist(data, bins=20, alpha=0.5, density=True)\n",
    "plt.axvline(mu - sigma, color='black')\n",
    "plt.axvline(mu + sigma, color='black')\n",
    "plt.title('Proportion of data in range [μ–σ, μ+σ]: %.3f' % test_statistic(data))\n",
    "plt.show()"
   ]
  },
  {
   "cell_type": "markdown",
   "metadata": {},
   "source": [
    "So the test statistic evaluated on the real dataset is 0.640. But is this statistically significantly different from the expected value, which is 0.680 if we assume normally distributed data in our model?\n",
    "\n",
    "We can only answer this question by comparing the test statistic for the real dataset (0.640) to the test statistic on replicated data from the posterior predictive distribution of our model."
   ]
  },
  {
   "cell_type": "markdown",
   "metadata": {},
   "source": [
    "## Task: Calculate the p-value\n",
    "\n",
    "* Generate samples from the posterior predictive distribution and compute the test statistic for each replicated dataset.\n",
    "* Plot a histogram of the test statistic on the replicated datasets.\n",
    "* Plot a vertical line on the histogram to show value of the test statistic on the real dataset (0.640).\n",
    "* Compute the p-value as the proportion of replicated test statistic values that are greater than the real test statistic value.\n",
    "\n",
    "### How to generate samples\n",
    "\n",
    "* Generate 1000 (or more) samples of $(x,\\sigma^2)$ from the posterior Normal-Inverse-Gamma distribution.\n",
    "* For each sample from the posterior, generate a replicated dataset $\\{y^{\\text{(rep)}}_i\\}$ with the same size (the same number of data points) as the real dataset. It is important the each replicated dataset has the same size as the real dataset, to make sure their statistical behavior is the same.\n",
    "* Compute the test statistic for each replicated dataset to get the samples from the replicated test statistic."
   ]
  },
  {
   "cell_type": "code",
   "execution_count": 9,
   "metadata": {},
   "outputs": [],
   "source": [
    "def norminvgamma_rvs(mu, nu, alpha, beta, size=1):\n",
    "    '''\n",
    "    Generate n samples from the normal-inverse-gamma distribution. This function\n",
    "    returns a (size x 2) matrix where each row contains a sample, (x, sigma2).\n",
    "    '''\n",
    "    sigma2 = stats.invgamma.rvs(a=alpha, scale=beta, size=size)  # Sample sigma^2 from the inverse-gamma\n",
    "    x = stats.norm.rvs(loc=mu, scale=np.sqrt(sigma2 / nu), size=size)  # Sample x from the normal\n",
    "    return np.vstack((x, sigma2)).transpose()"
   ]
  },
  {
   "cell_type": "code",
   "execution_count": 22,
   "metadata": {},
   "outputs": [
    {
     "name": "stdout",
     "output_type": "stream",
     "text": [
      "p-val:  1.0\n"
     ]
    },
    {
     "data": {
      "image/png": "[encoded data removed]",
      "text/plain": [
       "<Figure size 432x288 with 1 Axes>"
      ]
     },
     "metadata": {},
     "output_type": "display_data"
    }
   ],
   "source": [
    "posterior_samples = norminvgamma_rvs(mu_1,nu_1,alpha_1,beta_1,size=1000)\n",
    "test_statistics = []\n",
    "\n",
    "for i in posterior_samples:\n",
    "    norm_samples = stats.norm.rvs(i[0],i[1],1000)\n",
    "    test_statistics.append(test_statistic(norm_samples))\n",
    "\n",
    "    \n",
    "plt.hist(test_statistics,bins=20, alpha=0.5, density=True)\n",
    "plt.axvline(0.64, color='black')\n",
    "\n",
    "p_val = sum([1 for i in test_statistics if i > 0.64])/len(test_statistics)\n",
    "print('p-val: ',p_val)"
   ]
  }
 ],
 "metadata": {
  "kernelspec": {
   "display_name": "Python 3",
   "language": "python",
   "name": "python3"
  },
  "language_info": {
   "codemirror_mode": {
    "name": "ipython",
    "version": 3
   },
   "file_extension": ".py",
   "mimetype": "text/x-python",
   "name": "python",
   "nbconvert_exporter": "python",
   "pygments_lexer": "ipython3",
   "version": "3.6.5"
  }
 },
 "nbformat": 4,
 "nbformat_minor": 2
}
